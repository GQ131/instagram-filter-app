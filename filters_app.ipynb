{
 "cells": [
  {
   "cell_type": "markdown",
   "metadata": {},
   "source": [
    "# Instagram Filters App"
   ]
  },
  {
   "cell_type": "markdown",
   "metadata": {},
   "source": [
    "## Load the necessary packages"
   ]
  },
  {
   "cell_type": "code",
   "execution_count": 1,
   "metadata": {},
   "outputs": [],
   "source": [
    "# -*- coding: utf-8 -*-\n",
    "import cv2\n",
    "import numpy as np\n",
    "\n",
    "# import tkinter and tkinter.filedialog\n",
    "from tkinter import Tk     # from tkinter import Tk for Python 3.x\n",
    "from tkinter.filedialog import askopenfilename\n"
   ]
  },
  {
   "cell_type": "code",
   "execution_count": 2,
   "metadata": {},
   "outputs": [],
   "source": [
    "def dummy(value):\n",
    "    pass"
   ]
  },
  {
   "cell_type": "markdown",
   "metadata": {},
   "source": [
    "We keep the root window from appearing.\n",
    "\n",
    "Show an \"Open\" dialog box and return the path to the selected file"
   ]
  },
  {
   "cell_type": "code",
   "execution_count": 3,
   "metadata": {},
   "outputs": [],
   "source": [
    "def select_image():\n",
    "    \n",
    "    Tk().withdraw()\n",
    "    \n",
    "    filename = askopenfilename()\n",
    "    return filename"
   ]
  },
  {
   "cell_type": "markdown",
   "metadata": {},
   "source": [
    "## Define the convolution kernels"
   ]
  },
  {
   "cell_type": "markdown",
   "metadata": {},
   "source": [
    "- Identity kernel: output is identical to the input. It takes numpy arrays\n",
    "\n",
    "- Sharpen_kernel: It gives the most weight to the anchor points and gives less weight to the pixels around it.\n",
    "\n",
    "- Blurring kernels:\n",
    "    - the larger the numbers in the Gaussian Kernel function, the more intense the blur is going to be. \n",
    "\n",
    "    - The getGaussianKernel function returns a 1D Gaussian kernel, but for image filtering, I need a 2D kernel.\n",
    "    \n",
    "- I'll  to use cv2.getGaussianKernel(ksize, sigma) and then create a 2D kernel by multiplying two 1D kernels (one transposed)"
   ]
  },
  {
   "cell_type": "code",
   "execution_count": 4,
   "metadata": {},
   "outputs": [],
   "source": [
    "identity_kernel = np.array([[0,0,0],[0,1,0],[0,0,0]])\n",
    "\n",
    "sharpen_kernel = np.array([[0,-1,0], [-1,5,-1],[0, -1,0]])"
   ]
  },
  {
   "cell_type": "code",
   "execution_count": 5,
   "metadata": {},
   "outputs": [],
   "source": [
    "gaussian_kernel1 = cv2.getGaussianKernel(3, 0)\n",
    "gaussian_kernel1 = np.outer(gaussian_kernel1, gaussian_kernel1.T)\n",
    "\n",
    "gaussian_kernel2 = cv2.getGaussianKernel(5, 0)\n",
    "gaussian_kernel2 = np.outer(gaussian_kernel2, gaussian_kernel2.T)"
   ]
  },
  {
   "cell_type": "markdown",
   "metadata": {},
   "source": [
    "- I introduce the \"average filter\" or box_kernel. \n",
    "    - It's called like that because it takes the average of the pixels inside the window. \n",
    "        - So, in a 3x3 matrix, I have 9 numbers total, then the filter give each number 1/9 of the weight. \n",
    "    - The first parameter in this function is the array.\n",
    "    - The second is the array data type (in this case it's float 32).\n",
    "    - Then we divide by 9 because there are 9 numbers. "
   ]
  },
  {
   "cell_type": "code",
   "execution_count": 6,
   "metadata": {},
   "outputs": [],
   "source": [
    "box_kernel = np.array([[1, 1, 1], [1, 1, 1], [1, 1, 1]], np.float32) / 9.0\n",
    "# (1 + 2 + 3 + 4 + 5) / 5 = 1 * 1/5 + 2 * 1/5 + 3 * 1/5 + 4 * 1/5 + 5 * 1/5"
   ]
  },
  {
   "cell_type": "code",
   "execution_count": 7,
   "metadata": {},
   "outputs": [],
   "source": [
    "# I create an array that stores all kernels\n",
    "kernels = [identity_kernel, sharpen_kernel, gaussian_kernel1, gaussian_kernel2, box_kernel]"
   ]
  },
  {
   "cell_type": "markdown",
   "metadata": {},
   "source": [
    "## Load and Read an image"
   ]
  },
  {
   "cell_type": "code",
   "execution_count": 8,
   "metadata": {},
   "outputs": [],
   "source": [
    "# Load an image\n",
    "image_path = select_image()\n",
    "if image_path:\n",
    "    color_original = cv2.imread(image_path)\n",
    "    if color_original is None:\n",
    "        print(\"Error loading image\")\n",
    "        exit()\n",
    "    gray_original = cv2.cvtColor(color_original, cv2.COLOR_BGR2GRAY)\n",
    "else:\n",
    "    print(\"No file selected\")\n",
    "    exit()"
   ]
  },
  {
   "cell_type": "markdown",
   "metadata": {},
   "source": [
    "## Create the UI (Window and Trackbars)"
   ]
  },
  {
   "cell_type": "code",
   "execution_count": 10,
   "metadata": {},
   "outputs": [],
   "source": [
    "cv2.namedWindow('app')\n",
    "\n",
    "# arguments: trackbarName, windowName, value (initial value), count (max value), on Change (event handler)\n",
    "cv2.createTrackbar('contrast', 'app', 1, 100, dummy)\n",
    "\n",
    "# name=brightness, initial value=50, max value=100, event handler=dummy\n",
    "cv2.createTrackbar('brightness', 'app', 50, 100, dummy)\n",
    "# Filter bar\n",
    "cv2.createTrackbar('filter', 'app', 0, len(kernels)-1, dummy) # here I updated the filter bar so that it includes all the kernels I am going to create. \n",
    "# also, the -1 is because we index an array at 0, so 2 elements actually stop at 1. We need to count one less. \n",
    "# Grayscale bar\n",
    "cv2.createTrackbar('grayscale', 'app', 0, 1, dummy)"
   ]
  },
  {
   "cell_type": "markdown",
   "metadata": {},
   "source": [
    "## Main UI loop\n",
    "\n",
    "- here we are creating a count for it to save the image as \"output 1, output 2\" anmd so on. \n",
    "- the function to apply a particular kernel is called \"filter2D\"\n",
    "    - This function takes the original picture (here, 'color-original'), the other parameter is \"depth\". Here, we put -1 to just copy the depth of the color_original. \n",
    "    - The last parameter is the color filter that we want to apply. In tihs case, it is an index of kernels.\n",
    "\n",
    "- Important: because the filters and the brightness and contrast build on each other,brightness and contrast are going to overwrite the filters that we apply.\n",
    "\n",
    "    - So we need to chain them together, so that we apply the filters and then we apply the brightness and contrast on top of these. \n"
   ]
  },
  {
   "cell_type": "code",
   "execution_count": 11,
   "metadata": {},
   "outputs": [],
   "source": [
    "# main UI loop\n",
    "count = 1\n",
    "\n",
    "while True:\n",
    "    # read all the trackbar values\n",
    "    grayscale = cv2.getTrackbarPos('grayscale', 'app')\n",
    "    contrast = cv2.getTrackbarPos('contrast', 'app')\n",
    "    brightness = cv2.getTrackbarPos('brightness', 'app')\n",
    "    kernel_idx = cv2.getTrackbarPos('filter', 'app')\n",
    "    \n",
    "    # Apply the kernel to color and grayscale images\n",
    "    color_modified = cv2.filter2D(color_original, -1, kernels[kernel_idx])\n",
    "    gray_modified = cv2.filter2D(gray_original, -1, kernels[kernel_idx])\n",
    "\n",
    "    # Apply brightness and contrast\n",
    "    color_modified = cv2.addWeighted(color_modified, contrast, np.zeros_like(color_original), 0, brightness - 50)\n",
    "    gray_modified = cv2.addWeighted(gray_modified, contrast, np.zeros_like(gray_original), 0, brightness - 50)\n",
    "\n",
    "    # Check grayscale toggle to decide which image to display and save\n",
    "    if grayscale == 0:\n",
    "        cv2.imshow('app', color_modified)\n",
    "    else:\n",
    "        cv2.imshow('app', gray_modified)\n",
    "\n",
    "    # wait for keypress (100 milliseconds)\n",
    "    key = cv2.waitKey(100)\n",
    "    if key == ord('q'):\n",
    "        break\n",
    "    elif key == ord('s'):\n",
    "        # Save image\n",
    "        if grayscale == 0:\n",
    "            cv2.imwrite('output-{}.jpg'.format(count), color_modified)\n",
    "        else:\n",
    "            cv2.imwrite('output-{}.jpg'.format(count), gray_modified)\n",
    "        count += 1\n",
    "\n",
    "# Window cleanup\n",
    "cv2.destroyAllWindows()\n"
   ]
  }
 ],
 "metadata": {
  "kernelspec": {
   "display_name": "base",
   "language": "python",
   "name": "python3"
  },
  "language_info": {
   "codemirror_mode": {
    "name": "ipython",
    "version": 3
   },
   "file_extension": ".py",
   "mimetype": "text/x-python",
   "name": "python",
   "nbconvert_exporter": "python",
   "pygments_lexer": "ipython3",
   "version": "3.11.7"
  }
 },
 "nbformat": 4,
 "nbformat_minor": 2
}
